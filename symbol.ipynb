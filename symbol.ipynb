{
 "cells": [
  {
   "cell_type": "code",
   "execution_count": 19,
   "metadata": {},
   "outputs": [
    {
     "name": "stdout",
     "output_type": "stream",
     "text": [
      "12x^12\n"
     ]
    }
   ],
   "source": [
    "# A Symbolic Equation Solver \n",
    "\n",
    "import re\n",
    "\n",
    "def del_ins(exp,i,x):                                          # A Function to remove the operands from expression and insert the output value\n",
    "    del exp[i+1]\n",
    "    del exp[i]\n",
    "    del exp[i-1]\n",
    "    exp.insert(i-1,x)\n",
    "    return exp\n",
    "\n",
    "def solve_exp(exp):                                            # A Function to solve all the expressions (not equations)\n",
    "    operators = {'+':1 ,'-':2 ,'*':3 ,'/':4 ,'^':5 }\n",
    "    variables = set(re.findall('([a-z]{1})',exp))              # Identifying all the variables present in the equation\n",
    "    exp = exp.split()        \n",
    "    \n",
    "    if '/' in exp :\n",
    "        i = exp.index('/')\n",
    "        a,b = exp[i-1],exp[i+1]\n",
    "        if a == b :\n",
    "            exp = del_ins(exp,i,1)\n",
    "        else :\n",
    "            numerator = list(re.match(\"^([0-9]*)([a-z]{1})\\^([0-9])$\",a).groups())\n",
    "            denominator = list(re.match(\"^([0-9]*)([a-z]{1})\\^([0-9])$\",b).groups())\n",
    "            if numerator[1] == denominator[1]:\n",
    "                numerator[0] = (ord(numerator[0]) - 48) / (ord(denominator[0]) - 48)\n",
    "                numerator[2] = ord(numerator[2]) - ord(denominator[2])\n",
    "                exp = del_ins(exp,i,str(numerator[0])+numerator[1]+'^'+str(numerator[2]))\n",
    "                \n",
    "    if '*' in exp :\n",
    "        i = exp.index('*')\n",
    "        a,b = exp[i-1],exp[i+1]\n",
    "        term1 = list(re.match(\"^([0-9]*)([a-z]{1})\\^([0-9])$\",a).groups())\n",
    "        term2 = list(re.match(\"^([0-9]*)([a-z]{1})\\^([0-9])$\",b).groups())\n",
    "        if term1[1] == term2[1]:\n",
    "            term1[0] = (ord(term1[0]) - 48) * (ord(term2[0]) - 48)\n",
    "            term1[2] = ord(term1[2]) -48 + ord(term2[2]) -48\n",
    "            exp = del_ins(exp,i,str(term1[0])+term1[1]+'^'+str(term1[2]))\n",
    "            \n",
    "    if '+' in exp :\n",
    "        i = exp.index('+')\n",
    "        a,b = exp[i-1],exp[i+1]\n",
    "        term1 = list(re.match(\"^([0-9]*)([a-z]{1})$\",a).groups())\n",
    "        term2 = list(re.match(\"^([0-9]*)([a-z]{1})$\",b).groups())\n",
    "        if term1[1] == term2[1] :\n",
    "            term1[0] = ord(term1[0]) -48 + ord(term2[0]) -48\n",
    "            exp = del_ins(exp,i,str(term1[0])+term1[1])\n",
    "    \n",
    "    if '-' in exp :\n",
    "        i = exp.index('-')\n",
    "        a,b = exp[i-1],exp[i+1] \n",
    "        if a==b :\n",
    "            exp = del_ins(exp,i,0)\n",
    "        else:\n",
    "            term1 = list(re.match(\"^([0-9]*)([a-z]{1})$\",a).groups())\n",
    "            term2 = list(re.match(\"^([0-9]*)([a-z]{1})$\",b).groups())\n",
    "            if term1[1] == term2[1]:\n",
    "                term1[0] = ord(term1[0]) - ord(term2[0])\n",
    "                exp = del_ins(exp,i,str(term1[0])+term1[1])\n",
    "        \n",
    "    output = ''\n",
    "    for i in exp :\n",
    "        output += str(i)\n",
    "    return output\n",
    "            \n",
    "\n",
    "inp_exp = input('Enter the symbolic equation : ')              # Taking input from user and storing it\n",
    "print(solve_exp(inp_exp))                       "
   ]
  }
 ],
 "metadata": {
  "kernelspec": {
   "display_name": "Python 3",
   "language": "python",
   "name": "python3"
  },
  "language_info": {
   "codemirror_mode": {
    "name": "ipython",
    "version": 3
   },
   "file_extension": ".py",
   "mimetype": "text/x-python",
   "name": "python",
   "nbconvert_exporter": "python",
   "pygments_lexer": "ipython3",
   "version": "3.10.6"
  },
  "orig_nbformat": 4
 },
 "nbformat": 4,
 "nbformat_minor": 2
}
