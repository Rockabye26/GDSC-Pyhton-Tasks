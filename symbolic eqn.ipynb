{
 "cells": [
  {
   "cell_type": "code",
   "execution_count": 2,
   "metadata": {},
   "outputs": [
    {
     "ename": "ValueError",
     "evalue": "invalid literal for int() with base 10: ''",
     "output_type": "error",
     "traceback": [
      "\u001b[1;31m---------------------------------------------------------------------------\u001b[0m",
      "\u001b[1;31mValueError\u001b[0m                                Traceback (most recent call last)",
      "\u001b[1;32mUntitled-1.ipynb Cell 1\u001b[0m in \u001b[0;36m5\n\u001b[0;32m     <a href='vscode-notebook-cell:Untitled-1.ipynb?jupyter-notebook#W0sdW50aXRsZWQ%3D?line=47'>48</a>\u001b[0m inp_exp \u001b[39m=\u001b[39m \u001b[39minput\u001b[39m(\u001b[39m'\u001b[39m\u001b[39mEnter the symbolic equation : \u001b[39m\u001b[39m'\u001b[39m)              \u001b[39m# Taking input from user and storing it\u001b[39;00m\n\u001b[0;32m     <a href='vscode-notebook-cell:Untitled-1.ipynb?jupyter-notebook#W0sdW50aXRsZWQ%3D?line=48'>49</a>\u001b[0m \u001b[39mif\u001b[39;00m \u001b[39mlen\u001b[39m(re\u001b[39m.\u001b[39mfindall(\u001b[39m'\u001b[39m\u001b[39m(=)\u001b[39m\u001b[39m'\u001b[39m,inp_exp)) \u001b[39m==\u001b[39m \u001b[39m0\u001b[39m :                       \u001b[39m# Identifying if input is an equation or an expression\u001b[39;00m\n\u001b[1;32m---> <a href='vscode-notebook-cell:Untitled-1.ipynb?jupyter-notebook#W0sdW50aXRsZWQ%3D?line=49'>50</a>\u001b[0m     \u001b[39mprint\u001b[39m(solve_exp(inp_exp))                       \n\u001b[0;32m     <a href='vscode-notebook-cell:Untitled-1.ipynb?jupyter-notebook#W0sdW50aXRsZWQ%3D?line=50'>51</a>\u001b[0m \u001b[39melse\u001b[39;00m:\n\u001b[0;32m     <a href='vscode-notebook-cell:Untitled-1.ipynb?jupyter-notebook#W0sdW50aXRsZWQ%3D?line=51'>52</a>\u001b[0m     \u001b[39mprint\u001b[39m(solve_eq(inp_exp))\n",
      "\u001b[1;32mUntitled-1.ipynb Cell 1\u001b[0m in \u001b[0;36m2\n\u001b[0;32m     <a href='vscode-notebook-cell:Untitled-1.ipynb?jupyter-notebook#W0sdW50aXRsZWQ%3D?line=22'>23</a>\u001b[0m denominator \u001b[39m=\u001b[39m re\u001b[39m.\u001b[39mmatch(\u001b[39m\"\u001b[39m\u001b[39m^([0-9]*)([a-z]\u001b[39m\u001b[39m{1}\u001b[39;00m\u001b[39m)\u001b[39m\u001b[39m\\\u001b[39m\u001b[39m^([0-9])$\u001b[39m\u001b[39m\"\u001b[39m,b)\u001b[39m.\u001b[39mgroups()\n\u001b[0;32m     <a href='vscode-notebook-cell:Untitled-1.ipynb?jupyter-notebook#W0sdW50aXRsZWQ%3D?line=23'>24</a>\u001b[0m \u001b[39mif\u001b[39;00m numerator[\u001b[39m1\u001b[39m] \u001b[39m==\u001b[39m denominator[\u001b[39m1\u001b[39m]:\n\u001b[1;32m---> <a href='vscode-notebook-cell:Untitled-1.ipynb?jupyter-notebook#W0sdW50aXRsZWQ%3D?line=24'>25</a>\u001b[0m     numerator[\u001b[39m0\u001b[39m] \u001b[39m=\u001b[39m \u001b[39mint\u001b[39m(numerator[\u001b[39m0\u001b[39m]) \u001b[39m/\u001b[39m \u001b[39mint\u001b[39;49m(denominator[\u001b[39m0\u001b[39;49m])\n\u001b[0;32m     <a href='vscode-notebook-cell:Untitled-1.ipynb?jupyter-notebook#W0sdW50aXRsZWQ%3D?line=25'>26</a>\u001b[0m     numerator[\u001b[39m2\u001b[39m] \u001b[39m=\u001b[39m \u001b[39mint\u001b[39m(numerator[\u001b[39m2\u001b[39m]) \u001b[39m-\u001b[39m \u001b[39mint\u001b[39m(denominator[\u001b[39m2\u001b[39m])\n\u001b[0;32m     <a href='vscode-notebook-cell:Untitled-1.ipynb?jupyter-notebook#W0sdW50aXRsZWQ%3D?line=26'>27</a>\u001b[0m     exp \u001b[39m=\u001b[39m del_ins(exp,i,numerator\u001b[39m.\u001b[39mgroup(\u001b[39m1\u001b[39m)\u001b[39m+\u001b[39mnumerator\u001b[39m.\u001b[39mgroup(\u001b[39m2\u001b[39m)\u001b[39m+\u001b[39mnumerator\u001b[39m.\u001b[39mgroup(\u001b[39m3\u001b[39m))\n",
      "\u001b[1;31mValueError\u001b[0m: invalid literal for int() with base 10: ''"
     ]
    }
   ],
   "source": [
    "# A Symbolic Equation Solver \n",
    "\n",
    "import re\n",
    "\n",
    "def del_ins(exp,i,x):\n",
    "    del exp[i-1]\n",
    "    del exp[i]\n",
    "    del exp[i+1]\n",
    "    exp.insert(i-1,x)\n",
    "    return exp\n",
    "\n",
    "def solve_exp(exp):\n",
    "    operators = {'+':1 ,'-':2 ,'*':3 ,'/':4 ,'^':5 }\n",
    "    variables = set(re.findall('([a-z]{1})',exp))              # Identifying all the variables present in the equation\n",
    "    exp = exp.split()\n",
    "    if '/' in exp :\n",
    "        i = exp.index('/')\n",
    "        a,b = exp[i-1],exp[i+1]\n",
    "        if a == b :\n",
    "            exp = del_ins(exp,i,1)\n",
    "        else :\n",
    "            numerator = re.match(\"^([0-9]*)([a-z]{1})\\^([0-9])$\",a).groups()\n",
    "            denominator = re.match(\"^([0-9]*)([a-z]{1})\\^([0-9])$\",b).groups()\n",
    "            if numerator[1] == denominator[1]:\n",
    "                numerator[0] = int(numerator[0]) / int(denominator[0])\n",
    "                numerator[2] = int(numerator[2]) - int(denominator[2])\n",
    "                exp = del_ins(exp,i,numerator.group(1)+numerator.group(2)+numerator.group(3))\n",
    "    output = ''\n",
    "    for i in exp :\n",
    "        output += i\n",
    "    return output\n",
    "            \n",
    "        \n",
    "        \n",
    "        \n",
    "    \n",
    "    \n",
    "    \n",
    "def solve_eq(eq):\n",
    "    operators = {'+':1 ,'-':2 ,'*':3 ,'/':4 ,'^':5 }\n",
    "    variables = set(re.findall('([a-z]{1})',eq))               # Identifying all the variables present in the equation\n",
    "    \n",
    "    \n",
    "    \n",
    "    \n",
    "    \n",
    "\n",
    "inp_exp = input('Enter the symbolic equation : ')              # Taking input from user and storing it\n",
    "if len(re.findall('(=)',inp_exp)) == 0 :                       # Identifying if input is an equation or an expression\n",
    "    print(solve_exp(inp_exp))                       \n",
    "else:\n",
    "    print(solve_eq(inp_exp))"
   ]
  }
 ],
 "metadata": {
  "kernelspec": {
   "display_name": "Python 3",
   "language": "python",
   "name": "python3"
  },
  "language_info": {
   "codemirror_mode": {
    "name": "ipython",
    "version": 3
   },
   "file_extension": ".py",
   "mimetype": "text/x-python",
   "name": "python",
   "nbconvert_exporter": "python",
   "pygments_lexer": "ipython3",
   "version": "3.10.6"
  },
  "orig_nbformat": 4
 },
 "nbformat": 4,
 "nbformat_minor": 2
}
